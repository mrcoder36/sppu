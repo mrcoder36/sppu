{
 "cells": [
  {
   "cell_type": "code",
   "execution_count": null,
   "id": "04fde0a6-1f9c-4aa4-86f7-0dafd932bb81",
   "metadata": {},
   "outputs": [
    {
     "name": "stdout",
     "output_type": "stream",
     "text": [
      "Fibonacci(5) = 5, Steps = 4\n"
     ]
    }
   ],
   "source": [
    "# # recursive program\n",
    "\n",
    "\n",
    "n= int(input(\"Enter the term :- \"))\n",
    "def rf(n):\n",
    "    if n<=1:\n",
    "        return n\n",
    "    else:\n",
    "        return rf(n-1)+rf(n-2)\n",
    "    \n",
    "if n <= 1:\n",
    "    print(n)\n",
    "else:\n",
    "    for i in range(0,n+1):\n",
    "        print(rf(i))\n",
    "print(\" Fibonacci numbers\")    \n",
    "print(f\"The term number {n} and value is {rf(n)}\")\n",
    "\n",
    "\n",
    "# # non-recursive\n",
    "# n= int(input(\"Enter the term :- \"))\n",
    "def iter(n):\n",
    "    n1=0\n",
    "    n2=1\n",
    "    for i in range(1,n):\n",
    "        n0=n1\n",
    "        n1=n2\n",
    "        n2=n0+n1\n",
    "        print(n2)\n",
    "        \n",
    "    return n2\n",
    "        \n",
    "print(\" Fibonacci numbers\")\n",
    "print(f\"fu {n} is {iter(n)}\")\n",
    "\n",
    "\n",
    "\n"
   ]
  },
  {
   "cell_type": "code",
   "execution_count": 3,
   "id": "4e43b7de-fa7b-426d-a927-1a05c9f6c2b7",
   "metadata": {},
   "outputs": [
    {
     "name": "stdout",
     "output_type": "stream",
     "text": [
      "Maximum value in the knapsack = 240.0\n"
     ]
    }
   ],
   "source": [
    "class Item:\n",
    "    def __init__(self, value, weight):\n",
    "        self.value = value\n",
    "        self.weight = weight\n",
    "\n",
    "# Function to solve the fractional knapsack problem\n",
    "def fractional_knapsack(items, capacity):\n",
    "    # Sort items by value-to-weight ratio in descending order\n",
    "    items.sort(key=lambda x: x.value / x.weight, reverse=True)\n",
    "    \n",
    "    total_value = 0.0  # Total value accumulated in the knapsack\n",
    "    for item in items:\n",
    "        if capacity <= 0:\n",
    "            break  # Stop if the knapsack is full\n",
    "        \n",
    "        if item.weight <= capacity:\n",
    "            # If the item can fit completely, take all of it\n",
    "            total_value += item.value\n",
    "            capacity -= item.weight\n",
    "        else:\n",
    "            # Take as much of the item as possible\n",
    "            fraction = capacity / item.weight\n",
    "            total_value += item.value * fraction\n",
    "            capacity = 0  # Knapsack is now full\n",
    "    \n",
    "    return total_value\n",
    "\n",
    "# Example usage\n",
    "items = [\n",
    "    Item(60, 10),\n",
    "    Item(100, 20),\n",
    "    Item(120, 30)\n",
    "]\n",
    "capacity = 50\n",
    "\n",
    "max_value = fractional_knapsack(items, capacity)\n",
    "print(f\"Maximum value in the knapsack = {max_value}\")\n"
   ]
  },
  {
   "cell_type": "code",
   "execution_count": 5,
   "id": "a2d346a4-7e62-4fc9-985d-100414fa5ee7",
   "metadata": {},
   "outputs": [
    {
     "name": "stdout",
     "output_type": "stream",
     "text": [
      "Maximum value in the knapsack = 220\n"
     ]
    }
   ],
   "source": [
    "def knapsack_01(values, weights, capacity):\n",
    "    n = len(values)  # number of items\n",
    "    \n",
    "    # Create a 2D DP table where dp[i][w] is the maximum value\n",
    "    # that can be obtained with the first i items and capacity w.\n",
    "    dp = [[0 for _ in range(capacity + 1)] for _ in range(n + 1)]\n",
    "    \n",
    "    # Build the DP table\n",
    "    for i in range(1, n + 1):\n",
    "        for w in range(capacity + 1):\n",
    "            if weights[i - 1] <= w:\n",
    "                # Option 1: Include the item, add its value, and reduce the capacity\n",
    "                # Option 2: Exclude the item, keep the previous value\n",
    "                dp[i][w] = max(dp[i - 1][w], values[i - 1] + dp[i - 1][w - weights[i - 1]])\n",
    "            else:\n",
    "                # Item can't be included because it's too heavy\n",
    "                dp[i][w] = dp[i - 1][w]\n",
    "    \n",
    "    return dp[n][capacity]  # The bottom-right cell contains the maximum value achievable\n",
    "\n",
    "# Example usage\n",
    "values = [60, 100, 120]  # values of items\n",
    "weights = [10, 20, 30]   # weights of items\n",
    "capacity = 50            # maximum capacity of knapsack\n",
    "\n",
    "max_value = knapsack_01(values, weights, capacity)\n",
    "print(f\"Maximum value in the knapsack = {max_value}\")\n"
   ]
  },
  {
   "cell_type": "code",
   "execution_count": 7,
   "id": "0f10ced6-72be-4f83-9e03-73d5437e8eba",
   "metadata": {},
   "outputs": [
    {
     "name": "stdout",
     "output_type": "stream",
     "text": [
      "Job sequence to maximize profit: ['c', 'a', 'e']\n",
      "Maximum profit: 142\n"
     ]
    }
   ],
   "source": [
    "class Job:\n",
    "    def __init__(self, id, deadline, profit):\n",
    "        self.id = id\n",
    "        self.deadline = deadline\n",
    "        self.profit = profit\n",
    "\n",
    "# Function to perform job sequencing to maximize profit\n",
    "def job_sequencing(jobs):\n",
    "    # Sort jobs by profit in descending order\n",
    "    jobs.sort(key=lambda x: x.profit, reverse=True)\n",
    "\n",
    "    # Find the maximum deadline to create a schedule array\n",
    "    max_deadline = max(job.deadline for job in jobs)\n",
    "    \n",
    "    # Create an array to store scheduled jobs; initially all slots are empty\n",
    "    schedule = [-1] * (max_deadline + 1)\n",
    "    total_profit = 0\n",
    "\n",
    "    # Schedule each job\n",
    "    for job in jobs:\n",
    "        # Try to find a free slot for this job, starting from the job's deadline\n",
    "        for slot in range(job.deadline, 0, -1):\n",
    "            if schedule[slot] == -1:  # Slot is free\n",
    "                schedule[slot] = job.id\n",
    "                total_profit += job.profit\n",
    "                break\n",
    "\n",
    "    # Filter out empty slots and return the job sequence and total profit\n",
    "    job_sequence = [job_id for job_id in schedule if job_id != -1]\n",
    "    return job_sequence, total_profit\n",
    "\n",
    "# Example usage\n",
    "jobs = [\n",
    "    Job('a', 2, 100),\n",
    "    Job('b', 1, 19),\n",
    "    Job('c', 2, 27),\n",
    "    Job('d', 1, 25),\n",
    "    Job('e', 3, 15)\n",
    "]\n",
    "\n",
    "job_sequence, max_profit = job_sequencing(jobs)\n",
    "print(f\"Job sequence to maximize profit: {job_sequence}\")\n",
    "print(f\"Maximum profit: {max_profit}\")\n"
   ]
  },
  {
   "cell_type": "code",
   "execution_count": null,
   "id": "dd7e6b7c-a6ea-4b04-9aa4-b135f6e815f6",
   "metadata": {},
   "outputs": [],
   "source": []
  }
 ],
 "metadata": {
  "kernelspec": {
   "display_name": "Python 3 (ipykernel)",
   "language": "python",
   "name": "python3"
  },
  "language_info": {
   "codemirror_mode": {
    "name": "ipython",
    "version": 3
   },
   "file_extension": ".py",
   "mimetype": "text/x-python",
   "name": "python",
   "nbconvert_exporter": "python",
   "pygments_lexer": "ipython3",
   "version": "3.12.7"
  }
 },
 "nbformat": 4,
 "nbformat_minor": 5
}
